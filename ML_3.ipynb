{
  "cells": [
    {
      "cell_type": "code",
      "execution_count": null,
      "metadata": {
        "id": "gGIy8C9BDQax"
      },
      "outputs": [],
      "source": [
        "import numpy as np\n",
        "import pandas as pd\n",
        "import cv2 \n",
        "import glob\n",
        "import os, sys\n",
        "import matplotlib.pyplot as plt\n",
        "from PIL import Image\n",
        "import matplotlib.image as mpimg\n",
        "\n",
        "from google.colab.patches import cv2_imshow"
      ]
    },
    {
      "cell_type": "code",
      "execution_count": null,
      "metadata": {
        "colab": {
          "base_uri": "https://localhost:8080/",
          "height": 74
        },
        "id": "bIKBa15mFCig",
        "outputId": "beacb15d-90d9-4c46-bb89-29916c03cf80"
      },
      "outputs": [
        {
          "output_type": "display_data",
          "data": {
            "text/plain": [
              "<IPython.core.display.HTML object>"
            ],
            "text/html": [
              "\n",
              "     <input type=\"file\" id=\"files-9df0c955-a2b4-4fcc-ab3c-ada8c6b62dae\" name=\"files[]\" multiple disabled\n",
              "        style=\"border:none\" />\n",
              "     <output id=\"result-9df0c955-a2b4-4fcc-ab3c-ada8c6b62dae\">\n",
              "      Upload widget is only available when the cell has been executed in the\n",
              "      current browser session. Please rerun this cell to enable.\n",
              "      </output>\n",
              "      <script>// Copyright 2017 Google LLC\n",
              "//\n",
              "// Licensed under the Apache License, Version 2.0 (the \"License\");\n",
              "// you may not use this file except in compliance with the License.\n",
              "// You may obtain a copy of the License at\n",
              "//\n",
              "//      http://www.apache.org/licenses/LICENSE-2.0\n",
              "//\n",
              "// Unless required by applicable law or agreed to in writing, software\n",
              "// distributed under the License is distributed on an \"AS IS\" BASIS,\n",
              "// WITHOUT WARRANTIES OR CONDITIONS OF ANY KIND, either express or implied.\n",
              "// See the License for the specific language governing permissions and\n",
              "// limitations under the License.\n",
              "\n",
              "/**\n",
              " * @fileoverview Helpers for google.colab Python module.\n",
              " */\n",
              "(function(scope) {\n",
              "function span(text, styleAttributes = {}) {\n",
              "  const element = document.createElement('span');\n",
              "  element.textContent = text;\n",
              "  for (const key of Object.keys(styleAttributes)) {\n",
              "    element.style[key] = styleAttributes[key];\n",
              "  }\n",
              "  return element;\n",
              "}\n",
              "\n",
              "// Max number of bytes which will be uploaded at a time.\n",
              "const MAX_PAYLOAD_SIZE = 100 * 1024;\n",
              "\n",
              "function _uploadFiles(inputId, outputId) {\n",
              "  const steps = uploadFilesStep(inputId, outputId);\n",
              "  const outputElement = document.getElementById(outputId);\n",
              "  // Cache steps on the outputElement to make it available for the next call\n",
              "  // to uploadFilesContinue from Python.\n",
              "  outputElement.steps = steps;\n",
              "\n",
              "  return _uploadFilesContinue(outputId);\n",
              "}\n",
              "\n",
              "// This is roughly an async generator (not supported in the browser yet),\n",
              "// where there are multiple asynchronous steps and the Python side is going\n",
              "// to poll for completion of each step.\n",
              "// This uses a Promise to block the python side on completion of each step,\n",
              "// then passes the result of the previous step as the input to the next step.\n",
              "function _uploadFilesContinue(outputId) {\n",
              "  const outputElement = document.getElementById(outputId);\n",
              "  const steps = outputElement.steps;\n",
              "\n",
              "  const next = steps.next(outputElement.lastPromiseValue);\n",
              "  return Promise.resolve(next.value.promise).then((value) => {\n",
              "    // Cache the last promise value to make it available to the next\n",
              "    // step of the generator.\n",
              "    outputElement.lastPromiseValue = value;\n",
              "    return next.value.response;\n",
              "  });\n",
              "}\n",
              "\n",
              "/**\n",
              " * Generator function which is called between each async step of the upload\n",
              " * process.\n",
              " * @param {string} inputId Element ID of the input file picker element.\n",
              " * @param {string} outputId Element ID of the output display.\n",
              " * @return {!Iterable<!Object>} Iterable of next steps.\n",
              " */\n",
              "function* uploadFilesStep(inputId, outputId) {\n",
              "  const inputElement = document.getElementById(inputId);\n",
              "  inputElement.disabled = false;\n",
              "\n",
              "  const outputElement = document.getElementById(outputId);\n",
              "  outputElement.innerHTML = '';\n",
              "\n",
              "  const pickedPromise = new Promise((resolve) => {\n",
              "    inputElement.addEventListener('change', (e) => {\n",
              "      resolve(e.target.files);\n",
              "    });\n",
              "  });\n",
              "\n",
              "  const cancel = document.createElement('button');\n",
              "  inputElement.parentElement.appendChild(cancel);\n",
              "  cancel.textContent = 'Cancel upload';\n",
              "  const cancelPromise = new Promise((resolve) => {\n",
              "    cancel.onclick = () => {\n",
              "      resolve(null);\n",
              "    };\n",
              "  });\n",
              "\n",
              "  // Wait for the user to pick the files.\n",
              "  const files = yield {\n",
              "    promise: Promise.race([pickedPromise, cancelPromise]),\n",
              "    response: {\n",
              "      action: 'starting',\n",
              "    }\n",
              "  };\n",
              "\n",
              "  cancel.remove();\n",
              "\n",
              "  // Disable the input element since further picks are not allowed.\n",
              "  inputElement.disabled = true;\n",
              "\n",
              "  if (!files) {\n",
              "    return {\n",
              "      response: {\n",
              "        action: 'complete',\n",
              "      }\n",
              "    };\n",
              "  }\n",
              "\n",
              "  for (const file of files) {\n",
              "    const li = document.createElement('li');\n",
              "    li.append(span(file.name, {fontWeight: 'bold'}));\n",
              "    li.append(span(\n",
              "        `(${file.type || 'n/a'}) - ${file.size} bytes, ` +\n",
              "        `last modified: ${\n",
              "            file.lastModifiedDate ? file.lastModifiedDate.toLocaleDateString() :\n",
              "                                    'n/a'} - `));\n",
              "    const percent = span('0% done');\n",
              "    li.appendChild(percent);\n",
              "\n",
              "    outputElement.appendChild(li);\n",
              "\n",
              "    const fileDataPromise = new Promise((resolve) => {\n",
              "      const reader = new FileReader();\n",
              "      reader.onload = (e) => {\n",
              "        resolve(e.target.result);\n",
              "      };\n",
              "      reader.readAsArrayBuffer(file);\n",
              "    });\n",
              "    // Wait for the data to be ready.\n",
              "    let fileData = yield {\n",
              "      promise: fileDataPromise,\n",
              "      response: {\n",
              "        action: 'continue',\n",
              "      }\n",
              "    };\n",
              "\n",
              "    // Use a chunked sending to avoid message size limits. See b/62115660.\n",
              "    let position = 0;\n",
              "    do {\n",
              "      const length = Math.min(fileData.byteLength - position, MAX_PAYLOAD_SIZE);\n",
              "      const chunk = new Uint8Array(fileData, position, length);\n",
              "      position += length;\n",
              "\n",
              "      const base64 = btoa(String.fromCharCode.apply(null, chunk));\n",
              "      yield {\n",
              "        response: {\n",
              "          action: 'append',\n",
              "          file: file.name,\n",
              "          data: base64,\n",
              "        },\n",
              "      };\n",
              "\n",
              "      let percentDone = fileData.byteLength === 0 ?\n",
              "          100 :\n",
              "          Math.round((position / fileData.byteLength) * 100);\n",
              "      percent.textContent = `${percentDone}% done`;\n",
              "\n",
              "    } while (position < fileData.byteLength);\n",
              "  }\n",
              "\n",
              "  // All done.\n",
              "  yield {\n",
              "    response: {\n",
              "      action: 'complete',\n",
              "    }\n",
              "  };\n",
              "}\n",
              "\n",
              "scope.google = scope.google || {};\n",
              "scope.google.colab = scope.google.colab || {};\n",
              "scope.google.colab._files = {\n",
              "  _uploadFiles,\n",
              "  _uploadFilesContinue,\n",
              "};\n",
              "})(self);\n",
              "</script> "
            ]
          },
          "metadata": {}
        },
        {
          "output_type": "stream",
          "name": "stdout",
          "text": [
            "Saving Train_images.zip to Train_images.zip\n"
          ]
        }
      ],
      "source": [
        "from google.colab import files\n",
        "uploaded= files.upload()"
      ]
    },
    {
      "cell_type": "code",
      "execution_count": null,
      "metadata": {
        "id": "IBlSbLutFGQh",
        "colab": {
          "base_uri": "https://localhost:8080/"
        },
        "outputId": "49f178cd-cbb8-400c-a29c-499a67c62a3a"
      },
      "outputs": [
        {
          "output_type": "stream",
          "name": "stdout",
          "text": [
            "unzip:  cannot find or open /Training_images.zip, /Training_images.zip.zip or /Training_images.zip.ZIP.\n"
          ]
        }
      ],
      "source": [
        "!unzip -uq '/Training_images.zip' -d '/content'"
      ]
    },
    {
      "cell_type": "code",
      "execution_count": null,
      "metadata": {
        "colab": {
          "base_uri": "https://localhost:8080/",
          "height": 283
        },
        "id": "SoPBI0iGFIhr",
        "outputId": "9b5e38f1-c152-4a5e-9610-52cc76852adf"
      },
      "outputs": [
        {
          "output_type": "execute_result",
          "data": {
            "text/plain": [
              "'/content/Train/2.jpg'"
            ],
            "application/vnd.google.colaboratory.intrinsic+json": {
              "type": "string"
            }
          },
          "metadata": {},
          "execution_count": 36
        },
        {
          "output_type": "display_data",
          "data": {
            "text/plain": [
              "<Figure size 432x288 with 1 Axes>"
            ],
            "image/png": "[encoded data removed]"
          },
          "metadata": {
            "needs_background": "light"
          }
        }
      ],
      "source": [
        "Train_folder=(r\"/content/Train\") \n",
        "TrainPaths=[]\n",
        "x=\"/content/Train/\"\n",
        "for i in range(2400):\n",
        "  q= x+ repr(i+1)\n",
        "  z='.jpg'\n",
        "  p= q+z\n",
        "  TrainPaths.append(p)\n",
        "  \n",
        "a= mpimg.imread(TrainPaths[0])\n",
        "plt.imshow(a)\n",
        "TrainPaths[1]"
      ]
    },
    {
      "cell_type": "code",
      "execution_count": null,
      "metadata": {
        "colab": {
          "base_uri": "https://localhost:8080/"
        },
        "id": "BPaxibkl8fAp",
        "outputId": "55ca1e54-e004-4b55-85c1-253852556465"
      },
      "outputs": [
        {
          "output_type": "stream",
          "name": "stdout",
          "text": [
            "[0, 0, 0, 0, 0, 0, 0, 0, 0, 10, 1, 0, 4, 0, 0, 8, 0, 4, 8, 1, 0, 11, 1, 0, 0, 0, 0, 0, 0, 0, 0, 0, 0, 0, 0, 0, 12, 0, 0, 18, 0, 0, 20, 0, 11, 0, 0, 2, 9, 0, 0, 9, 0, 0, 0, 0, 0, 0, 0, 0, 0, 0, 0, 0, 0, 5, 0, 0, 4, 0, 0, 6, 0, 12, 5, 0, 7, 4, 1, 3, 0, 0, 0, 0, 0, 0, 0, 0, 0, 0, 0, 0, 1, 0, 6, 6, 0, 0, 0, 0, 5, 0, 0, 13, 0, 0, 7, 0, 0, 0, 0, 0, 0, 0, 0, 0, 0, 0, 0, 0, 0, 0, 0, 3, 7, 0, 7, 56, 166, 255, 157, 56, 0, 23, 0, 1, 0, 0, 0, 0, 0, 0, 0, 0, 0, 0, 0, 0, 0, 21, 0, 0, 7, 0, 59, 220, 234, 255, 251, 246, 5, 0, 7, 0, 0, 0, 0, 0, 0, 0, 0, 0, 0, 0, 0, 0, 8, 0, 7, 10, 0, 69, 203, 255, 255, 248, 215, 246, 56, 9, 10, 4, 0, 0, 0, 0, 0, 0, 0, 0, 0, 0, 0, 0, 0, 0, 0, 4, 71, 202, 255, 241, 250, 184, 106, 254, 254, 125, 0, 0, 0, 0, 0, 0, 0, 5, 0, 0, 13, 0, 0, 4, 7, 0, 8, 172, 235, 255, 255, 255, 255, 235, 110, 188, 248, 175, 5, 0, 0, 0, 0, 0, 0, 5, 0, 0, 4, 0, 0, 2, 6, 4, 50, 239, 255, 243, 189, 105, 255, 229, 40, 80, 255, 158, 7, 0, 0, 0, 0, 0, 1, 2, 1, 0, 0, 1, 1, 0, 9, 28, 232, 255, 244, 196, 7, 83, 107, 34, 1, 2, 255, 234, 53, 0, 0, 0, 0, 0, 0, 0, 4, 0, 0, 4, 0, 0, 36, 172, 255, 222, 218, 83, 0, 0, 7, 0, 0, 0, 255, 251, 166, 0, 0, 0, 0, 0, 0, 0, 5, 1, 1, 0, 0, 12, 178, 254, 227, 79, 13, 11, 13, 7, 0, 25, 0, 0, 255, 249, 190, 6, 0, 0, 0, 0, 2, 0, 4, 0, 1, 0, 0, 72, 254, 248, 63, 15, 0, 20, 3, 0, 0, 0, 0, 10, 246, 255, 182, 6, 0, 0, 0, 0, 4, 0, 2, 0, 2, 0, 30, 175, 252, 195, 0, 0, 0, 0, 0, 27, 16, 0, 0, 16, 246, 237, 205, 0, 0, 0, 0, 0, 3, 0, 1, 0, 4, 0, 64, 255, 254, 108, 10, 0, 2, 10, 0, 0, 0, 4, 18, 0, 255, 255, 135, 0, 0, 0, 0, 0, 3, 3, 0, 0, 1, 6, 89, 248, 230, 26, 3, 0, 5, 5, 10, 0, 1, 0, 11, 128, 251, 184, 19, 0, 0, 0, 0, 0, 1, 0, 4, 7, 3, 0, 79, 254, 223, 15, 0, 0, 3, 0, 0, 1, 7, 0, 132, 255, 234, 64, 0, 2, 0, 0, 0, 0, 3, 2, 2, 0, 0, 0, 87, 255, 143, 0, 2, 0, 10, 11, 0, 3, 39, 192, 249, 149, 5, 8, 0, 0, 0, 0, 0, 0, 0, 5, 4, 0, 0, 6, 91, 247, 218, 24, 0, 0, 0, 0, 14, 111, 234, 253, 167, 0, 4, 0, 0, 0, 0, 0, 0, 0, 0, 1, 7, 3, 1, 1, 83, 245, 251, 125, 67, 22, 82, 186, 228, 245, 229, 160, 57, 15, 0, 18, 0, 7, 0, 0, 0, 0, 3, 0, 0, 6, 2, 0, 82, 255, 255, 236, 229, 224, 249, 255, 243, 205, 133, 6, 0, 0, 16, 0, 4, 0, 0, 0, 0, 0, 6, 1, 0, 0, 2, 0, 50, 183, 238, 255, 250, 240, 251, 231, 137, 3, 0, 4, 11, 14, 0, 6, 0, 7, 0, 0, 0, 0, 0, 8, 5, 0, 10, 4, 0, 32, 145, 236, 255, 250, 151, 32, 8, 0, 0, 0, 5, 0, 0, 7, 3, 0, 0, 0, 0, 0, 0, 0, 0, 0, 0, 0, 0, 0, 0, 0, 0, 0, 0, 0, 0, 0, 0, 0, 0, 0, 0, 0, 0, 0, 0, 0, 0, 0, 0, 0, 0, 0, 0, 0, 0, 0, 0, 0, 0, 0, 0, 0, 0, 0, 0, 0, 0, 0, 0, 0, 0, 0, 0, 0, 0, 0, 0, 0, 0, 0, 0, 0, 0, 0, 0, 0, 0, 0, 0, 0, 0, 0, 0, 0, 0, 0, 0, 0, 0, 0, 0, 0, 0, 0, 0, 0, 0, 0, 0, 0, 0, 0, 0, 0, 0, 0, 0, 0, 0, 0, 0, 0, 0, 0, 0, 0, 0, 0, 0, 0, 0, 0]\n"
          ]
        }
      ],
      "source": [
        "TrainImage=[]\n",
        "for i in range(2400):\n",
        "  im = Image.open(TrainPaths[i], 'r')\n",
        "  pix_val = list(im.getdata())\n",
        "  TrainImage.append(pix_val)\n",
        "\n",
        "print(TrainImage[0])\n",
        "# size is equal to 784"
      ]
    },
    {
      "cell_type": "code",
      "execution_count": null,
      "metadata": {
        "colab": {
          "base_uri": "https://localhost:8080/"
        },
        "id": "jFzpCrVd9-hq",
        "outputId": "d9a9b2a3-deb5-4ba6-be7c-5a4e77a9cae4"
      },
      "outputs": [
        {
          "output_type": "execute_result",
          "data": {
            "text/plain": [
              "2400"
            ]
          },
          "metadata": {},
          "execution_count": 38
        }
      ],
      "source": [
        "len(TrainImage)"
      ]
    },
    {
      "cell_type": "code",
      "execution_count": null,
      "metadata": {
        "id": "IprEpxuN-LIu"
      },
      "outputs": [],
      "source": [
        "x= np.array(TrainImage)\n",
        "x.shape\n",
        "#len(x)\n",
        "x[1]\n",
        "\n"
      ]
    },
    {
      "cell_type": "code",
      "execution_count": null,
      "metadata": {
        "id": "DRiCIRI1fJzL"
      },
      "outputs": [],
      "source": [
        "X=[]\n",
        "for i in range (2400):\n",
        "  y=np.append(x[i],1)\n",
        "  X.append(y)\n",
        "X_tildas= np.array(X) \n",
        "X_tildas[1]"
      ]
    },
    {
      "cell_type": "code",
      "source": [
        "X_tildas.shape"
      ],
      "metadata": {
        "colab": {
          "base_uri": "https://localhost:8080/"
        },
        "id": "uNmWvqGZJdUG",
        "outputId": "d594cc32-eb39-4d27-c688-f94e0e6a50f1"
      },
      "execution_count": null,
      "outputs": [
        {
          "output_type": "execute_result",
          "data": {
            "text/plain": [
              "(2400, 785)"
            ]
          },
          "metadata": {},
          "execution_count": 41
        }
      ]
    },
    {
      "cell_type": "code",
      "source": [
        "# w= ((xtildatransapose*xtilda)^-1) *xtildatransapose* targetvalues\n",
        "f= np.linalg.pinv(X_tildas.transpose().dot(X_tildas)).dot(X_tildas.transpose())\n",
        "print(f)\n"
      ],
      "metadata": {
        "colab": {
          "base_uri": "https://localhost:8080/",
          "height": 296
        },
        "id": "O4XE7JrGJhz1",
        "outputId": "9b9ba525-5bde-4c46-c116-73921b3ad03e"
      },
      "execution_count": null,
      "outputs": [
        {
          "output_type": "stream",
          "name": "stdout",
          "text": [
            "[[-5.63795047e-04 -7.88938721e-04 -2.51576124e-04 ... -4.95694154e-04\n",
            "  -1.08647389e-04 -9.07576250e-05]\n",
            " [-3.41037060e-04  1.40580204e-04 -4.44138414e-04 ...  9.10748825e-05\n",
            "   2.33016815e-05  2.75897559e-05]\n",
            " [-5.64795652e-04  1.74178402e-04 -1.11366877e-04 ...  2.98258500e-04\n",
            "  -8.67689842e-04  6.37789925e-05]\n",
            " ...\n",
            " [-1.75748230e-04  1.43494006e-06 -2.81809241e-05 ... -7.59919987e-05\n",
            "  -4.65864194e-04  9.46179762e-05]\n",
            " [ 1.00420013e-04 -1.61052896e-04 -1.34171277e-04 ... -1.61592292e-04\n",
            "   4.34180377e-04 -1.21774605e-04]\n",
            " [ 1.59047786e-03  1.57917926e-03  9.43402145e-04 ...  4.23254769e-03\n",
            "  -1.59497339e-03  6.36501164e-03]]\n"
          ]
        },
        {
          "output_type": "execute_result",
          "data": {
            "text/plain": [
              "'\\nfor i in range(2400):\\n  Product= Transpose.dot(X_tildas)\\nprint(len(Product))  \\n\\nfor i in range (2400):\\n  I= np.linalg.pinv(Product[i])\\n  Inverse.append(I)\\n\\nfor i in range(2400):\\n  p2= Inverse[i].dot(X_transpose[i])\\n  Product2.append(p2)\\n'"
            ],
            "application/vnd.google.colaboratory.intrinsic+json": {
              "type": "string"
            }
          },
          "metadata": {},
          "execution_count": 65
        }
      ]
    },
    {
      "cell_type": "code",
      "execution_count": null,
      "metadata": {
        "id": "J2uM1Qsc4YZ0"
      },
      "outputs": [],
      "source": [
        "TrainLabels = np.genfromtxt(\"/Training Labels.txt\", delimiter = \",\")\n",
        "TrainLabels"
      ]
    },
    {
      "cell_type": "markdown",
      "metadata": {
        "id": "hEJLN8f56tZZ"
      },
      "source": [
        "Test files paths"
      ]
    },
    {
      "cell_type": "code",
      "execution_count": null,
      "metadata": {
        "colab": {
          "base_uri": "https://localhost:8080/",
          "height": 74
        },
        "id": "sLBly2ItFQxV",
        "outputId": "7d541895-99a6-4d59-c7d7-add77fe5b0e8"
      },
      "outputs": [
        {
          "output_type": "display_data",
          "data": {
            "text/plain": [
              "<IPython.core.display.HTML object>"
            ],
            "text/html": [
              "\n",
              "     <input type=\"file\" id=\"files-92e3e934-379e-48a2-813b-79780864e6d5\" name=\"files[]\" multiple disabled\n",
              "        style=\"border:none\" />\n",
              "     <output id=\"result-92e3e934-379e-48a2-813b-79780864e6d5\">\n",
              "      Upload widget is only available when the cell has been executed in the\n",
              "      current browser session. Please rerun this cell to enable.\n",
              "      </output>\n",
              "      <script>// Copyright 2017 Google LLC\n",
              "//\n",
              "// Licensed under the Apache License, Version 2.0 (the \"License\");\n",
              "// you may not use this file except in compliance with the License.\n",
              "// You may obtain a copy of the License at\n",
              "//\n",
              "//      http://www.apache.org/licenses/LICENSE-2.0\n",
              "//\n",
              "// Unless required by applicable law or agreed to in writing, software\n",
              "// distributed under the License is distributed on an \"AS IS\" BASIS,\n",
              "// WITHOUT WARRANTIES OR CONDITIONS OF ANY KIND, either express or implied.\n",
              "// See the License for the specific language governing permissions and\n",
              "// limitations under the License.\n",
              "\n",
              "/**\n",
              " * @fileoverview Helpers for google.colab Python module.\n",
              " */\n",
              "(function(scope) {\n",
              "function span(text, styleAttributes = {}) {\n",
              "  const element = document.createElement('span');\n",
              "  element.textContent = text;\n",
              "  for (const key of Object.keys(styleAttributes)) {\n",
              "    element.style[key] = styleAttributes[key];\n",
              "  }\n",
              "  return element;\n",
              "}\n",
              "\n",
              "// Max number of bytes which will be uploaded at a time.\n",
              "const MAX_PAYLOAD_SIZE = 100 * 1024;\n",
              "\n",
              "function _uploadFiles(inputId, outputId) {\n",
              "  const steps = uploadFilesStep(inputId, outputId);\n",
              "  const outputElement = document.getElementById(outputId);\n",
              "  // Cache steps on the outputElement to make it available for the next call\n",
              "  // to uploadFilesContinue from Python.\n",
              "  outputElement.steps = steps;\n",
              "\n",
              "  return _uploadFilesContinue(outputId);\n",
              "}\n",
              "\n",
              "// This is roughly an async generator (not supported in the browser yet),\n",
              "// where there are multiple asynchronous steps and the Python side is going\n",
              "// to poll for completion of each step.\n",
              "// This uses a Promise to block the python side on completion of each step,\n",
              "// then passes the result of the previous step as the input to the next step.\n",
              "function _uploadFilesContinue(outputId) {\n",
              "  const outputElement = document.getElementById(outputId);\n",
              "  const steps = outputElement.steps;\n",
              "\n",
              "  const next = steps.next(outputElement.lastPromiseValue);\n",
              "  return Promise.resolve(next.value.promise).then((value) => {\n",
              "    // Cache the last promise value to make it available to the next\n",
              "    // step of the generator.\n",
              "    outputElement.lastPromiseValue = value;\n",
              "    return next.value.response;\n",
              "  });\n",
              "}\n",
              "\n",
              "/**\n",
              " * Generator function which is called between each async step of the upload\n",
              " * process.\n",
              " * @param {string} inputId Element ID of the input file picker element.\n",
              " * @param {string} outputId Element ID of the output display.\n",
              " * @return {!Iterable<!Object>} Iterable of next steps.\n",
              " */\n",
              "function* uploadFilesStep(inputId, outputId) {\n",
              "  const inputElement = document.getElementById(inputId);\n",
              "  inputElement.disabled = false;\n",
              "\n",
              "  const outputElement = document.getElementById(outputId);\n",
              "  outputElement.innerHTML = '';\n",
              "\n",
              "  const pickedPromise = new Promise((resolve) => {\n",
              "    inputElement.addEventListener('change', (e) => {\n",
              "      resolve(e.target.files);\n",
              "    });\n",
              "  });\n",
              "\n",
              "  const cancel = document.createElement('button');\n",
              "  inputElement.parentElement.appendChild(cancel);\n",
              "  cancel.textContent = 'Cancel upload';\n",
              "  const cancelPromise = new Promise((resolve) => {\n",
              "    cancel.onclick = () => {\n",
              "      resolve(null);\n",
              "    };\n",
              "  });\n",
              "\n",
              "  // Wait for the user to pick the files.\n",
              "  const files = yield {\n",
              "    promise: Promise.race([pickedPromise, cancelPromise]),\n",
              "    response: {\n",
              "      action: 'starting',\n",
              "    }\n",
              "  };\n",
              "\n",
              "  cancel.remove();\n",
              "\n",
              "  // Disable the input element since further picks are not allowed.\n",
              "  inputElement.disabled = true;\n",
              "\n",
              "  if (!files) {\n",
              "    return {\n",
              "      response: {\n",
              "        action: 'complete',\n",
              "      }\n",
              "    };\n",
              "  }\n",
              "\n",
              "  for (const file of files) {\n",
              "    const li = document.createElement('li');\n",
              "    li.append(span(file.name, {fontWeight: 'bold'}));\n",
              "    li.append(span(\n",
              "        `(${file.type || 'n/a'}) - ${file.size} bytes, ` +\n",
              "        `last modified: ${\n",
              "            file.lastModifiedDate ? file.lastModifiedDate.toLocaleDateString() :\n",
              "                                    'n/a'} - `));\n",
              "    const percent = span('0% done');\n",
              "    li.appendChild(percent);\n",
              "\n",
              "    outputElement.appendChild(li);\n",
              "\n",
              "    const fileDataPromise = new Promise((resolve) => {\n",
              "      const reader = new FileReader();\n",
              "      reader.onload = (e) => {\n",
              "        resolve(e.target.result);\n",
              "      };\n",
              "      reader.readAsArrayBuffer(file);\n",
              "    });\n",
              "    // Wait for the data to be ready.\n",
              "    let fileData = yield {\n",
              "      promise: fileDataPromise,\n",
              "      response: {\n",
              "        action: 'continue',\n",
              "      }\n",
              "    };\n",
              "\n",
              "    // Use a chunked sending to avoid message size limits. See b/62115660.\n",
              "    let position = 0;\n",
              "    do {\n",
              "      const length = Math.min(fileData.byteLength - position, MAX_PAYLOAD_SIZE);\n",
              "      const chunk = new Uint8Array(fileData, position, length);\n",
              "      position += length;\n",
              "\n",
              "      const base64 = btoa(String.fromCharCode.apply(null, chunk));\n",
              "      yield {\n",
              "        response: {\n",
              "          action: 'append',\n",
              "          file: file.name,\n",
              "          data: base64,\n",
              "        },\n",
              "      };\n",
              "\n",
              "      let percentDone = fileData.byteLength === 0 ?\n",
              "          100 :\n",
              "          Math.round((position / fileData.byteLength) * 100);\n",
              "      percent.textContent = `${percentDone}% done`;\n",
              "\n",
              "    } while (position < fileData.byteLength);\n",
              "  }\n",
              "\n",
              "  // All done.\n",
              "  yield {\n",
              "    response: {\n",
              "      action: 'complete',\n",
              "    }\n",
              "  };\n",
              "}\n",
              "\n",
              "scope.google = scope.google || {};\n",
              "scope.google.colab = scope.google.colab || {};\n",
              "scope.google.colab._files = {\n",
              "  _uploadFiles,\n",
              "  _uploadFilesContinue,\n",
              "};\n",
              "})(self);\n",
              "</script> "
            ]
          },
          "metadata": {}
        },
        {
          "output_type": "stream",
          "name": "stdout",
          "text": [
            "Saving Test_images.zip to Test_images.zip\n"
          ]
        }
      ],
      "source": [
        "from google.colab import files\n",
        "uploaded= files.upload()"
      ]
    },
    {
      "cell_type": "code",
      "execution_count": null,
      "metadata": {
        "id": "x_ixWiPNFSxq"
      },
      "outputs": [],
      "source": [
        "!unzip -uq '/Test_images.zip' -d '/content'"
      ]
    },
    {
      "cell_type": "code",
      "execution_count": null,
      "metadata": {
        "colab": {
          "base_uri": "https://localhost:8080/"
        },
        "id": "dnNaL4BiGd3C",
        "outputId": "53f9daa6-063f-4fcf-9440-80a063cba88f"
      },
      "outputs": [
        {
          "output_type": "execute_result",
          "data": {
            "text/plain": [
              "array([-1., -1., -1., ..., -1., -1., -1.])"
            ]
          },
          "metadata": {},
          "execution_count": 116
        }
      ],
      "source": [
        "def getTargetValue(number):\n",
        "  T = np.ones([2400])\n",
        "  # Setting all the Target values with -1\n",
        "  T= T*-1\n",
        "  StartingIndexOfOnes= number * 240\n",
        "  for i in range(240):\n",
        "    #Setting all the Target values to 1\n",
        "    T[StartingIndexOfOnes+i]= T[StartingIndexOfOnes+i]*-1\n",
        "  return T  \n",
        "  \n",
        "y=getTargetValue(3)\n",
        "y"
      ]
    },
    {
      "cell_type": "code",
      "execution_count": null,
      "metadata": {
        "colab": {
          "base_uri": "https://localhost:8080/"
        },
        "id": "YcrN2vgiSBjC",
        "outputId": "3aeb1a91-5b9f-43ec-c08a-d94b638956ed"
      },
      "outputs": [
        {
          "output_type": "stream",
          "name": "stdout",
          "text": [
            "(785, 1)\n"
          ]
        }
      ],
      "source": [
        "T0= np.array(getTargetValue(0).reshape(2400,1))\n",
        "T1= np.array(getTargetValue(1).reshape(2400,1))\n",
        "T2= np.array(getTargetValue(2).reshape(2400,1))\n",
        "T3= np.array(getTargetValue(3).reshape(2400,1))\n",
        "T4= np.array(getTargetValue(4).reshape(2400,1))\n",
        "T5= np.array(getTargetValue(5).reshape(2400,1))\n",
        "T6= np.array(getTargetValue(6).reshape(2400,1))\n",
        "T7= np.array(getTargetValue(7).reshape(2400,1))\n",
        "T8= np.array(getTargetValue(8).reshape(2400,1))\n",
        "T9= np.array(getTargetValue(9).reshape(2400,1))\n",
        "\n",
        "wOfT0= np.dot(f,T0)\n",
        "wOfT0\n",
        "\n",
        "wOfT1= np.dot(f,T1)\n",
        "wOfT1\n",
        "\n",
        "wOfT2= np.dot(f,T2)\n",
        "wOfT2\n",
        "\n",
        "wOfT3= np.dot(f,T3)\n",
        "wOfT3\n",
        "\n",
        "wOfT4= np.dot(f,T4)\n",
        "wOfT4\n",
        "\n",
        "wOfT5= np.dot(f,T5)\n",
        "wOfT5\n",
        "\n",
        "wOfT6= np.dot(f,T6)\n",
        "wOfT6\n",
        "\n",
        "wOfT7= np.dot(f,T7)\n",
        "wOfT7\n",
        "\n",
        "wOfT8= np.dot(f,T8)\n",
        "wOfT8\n",
        "\n",
        "wOfT9= np.dot(f,T9)\n",
        "wOfT9\n",
        "\n",
        "print(wOfT9.shape)"
      ]
    },
    {
      "cell_type": "code",
      "execution_count": null,
      "metadata": {
        "id": "6qMavLocFYQI"
      },
      "outputs": [],
      "source": [
        "Test_folder=(r\"/content/Test\") \n",
        "TestPaths=[]\n",
        "x=\"/content/Test/\"\n",
        "for i in range(200):\n",
        "  q= x+ repr(i+1)\n",
        "  z='.jpg'\n",
        "  p= q+z\n",
        "  TestPaths.append(p)\n",
        "#paths  \n",
        "a= mpimg.imread(TestPaths[0])\n",
        "plt.imshow(a)\n"
      ]
    },
    {
      "cell_type": "code",
      "execution_count": null,
      "metadata": {
        "id": "295DedI1GV8L"
      },
      "outputs": [],
      "source": [
        "TestImage=[]\n",
        "for i in range(200):\n",
        "  im = Image.open(TestPaths[i], 'r')\n",
        "  pix_val = list(im.getdata())\n",
        "  TestImage.append(pix_val)\n",
        "\n",
        "print(TestImage[0])\n",
        "print(len(TestImage))"
      ]
    },
    {
      "cell_type": "code",
      "source": [
        "y= np.array(TestImage)\n",
        "y.shape\n",
        "print(len(y))\n",
        "y[1]"
      ],
      "metadata": {
        "id": "aJ6lvafsW2Yd"
      },
      "execution_count": null,
      "outputs": []
    },
    {
      "cell_type": "code",
      "source": [
        "Y=[]\n",
        "for i in range (200):\n",
        "  z=np.append(y[i],1)\n",
        "  Y.append(z)\n",
        "Y_tildas= np.array(Y) \n",
        "Y_tildas[1]\n",
        "print(Y_tildas.shape)"
      ],
      "metadata": {
        "colab": {
          "base_uri": "https://localhost:8080/"
        },
        "id": "G3OBAByOW68U",
        "outputId": "28c6b819-60ab-446a-95a7-be422715d57f"
      },
      "execution_count": null,
      "outputs": [
        {
          "output_type": "stream",
          "name": "stdout",
          "text": [
            "(200, 785)\n"
          ]
        }
      ]
    },
    {
      "cell_type": "code",
      "source": [
        "\n",
        "wOfT0Tilda= np.append(wOfT0,1) \n",
        "wOfT1Tilda= np.append(wOfT1,1) \n",
        "wOfT2Tilda= np.append(wOfT2,1) \n",
        "wOfT3Tilda= np.append(wOfT3,1) \n",
        "wOfT4Tilda= np.append(wOfT4,1) \n",
        "wOfT5Tilda= np.append(wOfT5,1) \n",
        "wOfT6Tilda= np.append(wOfT6,1) \n",
        "wOfT7Tilda= np.append(wOfT7,1) \n",
        "wOfT8Tilda= np.append(wOfT8,1) \n",
        "wOfT9Tilda= np.append(wOfT9,1) \n",
        "\n",
        "print(wOfT0Tilda.shape)\n"
      ],
      "metadata": {
        "colab": {
          "base_uri": "https://localhost:8080/"
        },
        "id": "jOj1-AlRZD1m",
        "outputId": "458c810c-e7fa-4351-a116-11836fb3ccfd"
      },
      "execution_count": null,
      "outputs": [
        {
          "output_type": "stream",
          "name": "stdout",
          "text": [
            "(786,)\n"
          ]
        }
      ]
    },
    {
      "cell_type": "code",
      "source": [
        "Y_tildas[0].shape"
      ],
      "metadata": {
        "colab": {
          "base_uri": "https://localhost:8080/"
        },
        "id": "1oIhHxQBjqnI",
        "outputId": "5ba97215-f1a5-40a6-f3ea-3536f9528fb5"
      },
      "execution_count": null,
      "outputs": [
        {
          "output_type": "execute_result",
          "data": {
            "text/plain": [
              "(785,)"
            ]
          },
          "metadata": {},
          "execution_count": 120
        }
      ]
    },
    {
      "cell_type": "code",
      "source": [
        "#fih el X hazawed 1 \n",
        "# y(X)= wtilda*X+w0\n",
        "PredictedLabels=[]\n",
        "for i in range (200):\n",
        "  yOfX0= np.dot(wOfT0.T,Y_tildas[i].reshape(785,1))\n",
        "  #print(wOfT0.T.shape)\n",
        "  #print(Y_tildas[i].reshape(785,1).shape)\n",
        "  #print(yOfX0[0][0])\n",
        "  yOfX1= np.dot(wOfT1.T,Y_tildas[i].reshape(785,1))\n",
        "  yOfX2= np.dot(wOfT2.T,Y_tildas[i].reshape(785,1))\n",
        "  yOfX3= np.dot(wOfT3.T,Y_tildas[i].reshape(785,1))\n",
        "  yOfX4= np.dot(wOfT4.T,Y_tildas[i].reshape(785,1))\n",
        "  yOfX5= np.dot(wOfT5.T,Y_tildas[i].reshape(785,1))\n",
        "  yOfX6= np.dot(wOfT6.T,Y_tildas[i].reshape(785,1))\n",
        "  yOfX7= np.dot(wOfT7.T,Y_tildas[i].reshape(785,1))\n",
        "  yOfX8= np.dot(wOfT8.T,Y_tildas[i].reshape(785,1))\n",
        "  yOfX9= np.dot(wOfT9.T,Y_tildas[i].reshape(785,1))\n",
        "\n",
        "  maximumY=np.array([yOfX0[0][0],yOfX1[0][0],yOfX2[0][0],yOfX3[0][0],yOfX4[0][0],yOfX5[0][0],yOfX6[0][0],yOfX7[0][0],yOfX8[0][0],yOfX9[0][0]])\n",
        "  maxPred= np.max(maximumY)\n",
        "  maxPredIndex= np.argmax(maximumY)\n",
        "  #print(maxPredIndex)\n",
        "  PredictedLabels.append(maxPredIndex)\n",
        "\n",
        "  #print(maxPred)\n"
      ],
      "metadata": {
        "id": "UrJKDPOvX61f"
      },
      "execution_count": null,
      "outputs": []
    },
    {
      "cell_type": "code",
      "source": [
        "PredictedLabels"
      ],
      "metadata": {
        "id": "lheqzptcsGyZ"
      },
      "execution_count": null,
      "outputs": []
    },
    {
      "cell_type": "code",
      "execution_count": null,
      "metadata": {
        "colab": {
          "base_uri": "https://localhost:8080/"
        },
        "id": "tcxc64c84fE3",
        "outputId": "1e848e05-49b9-470e-f44c-633bc28f6507"
      },
      "outputs": [
        {
          "output_type": "execute_result",
          "data": {
            "text/plain": [
              "array([0., 0., 0., 0., 0., 0., 0., 0., 0., 0., 0., 0., 0., 0., 0., 0., 0.,\n",
              "       0., 0., 0., 1., 1., 1., 1., 1., 1., 1., 1., 1., 1., 1., 1., 1., 1.,\n",
              "       1., 1., 1., 1., 1., 1., 2., 2., 2., 2., 2., 2., 2., 2., 2., 2., 2.,\n",
              "       2., 2., 2., 2., 2., 2., 2., 2., 2., 3., 3., 3., 3., 3., 3., 3., 3.,\n",
              "       3., 3., 3., 3., 3., 3., 3., 3., 3., 3., 3., 3., 4., 4., 4., 4., 4.,\n",
              "       4., 4., 4., 4., 4., 4., 4., 4., 4., 4., 4., 4., 4., 4., 4., 5., 5.,\n",
              "       5., 5., 5., 5., 5., 5., 5., 5., 5., 5., 5., 5., 5., 5., 5., 5., 5.,\n",
              "       5., 6., 6., 6., 6., 6., 6., 6., 6., 6., 6., 6., 6., 6., 6., 6., 6.,\n",
              "       6., 6., 6., 6., 7., 7., 7., 7., 7., 7., 7., 7., 7., 7., 7., 7., 7.,\n",
              "       7., 7., 7., 7., 7., 7., 7., 8., 8., 8., 8., 8., 8., 8., 8., 8., 8.,\n",
              "       8., 8., 8., 8., 8., 8., 8., 8., 8., 8., 9., 9., 9., 9., 9., 9., 9.,\n",
              "       9., 9., 9., 9., 9., 9., 9., 9., 9., 9., 9., 9., 9.])"
            ]
          },
          "metadata": {},
          "execution_count": 114
        }
      ],
      "source": [
        "TestLabels= np.genfromtxt(\"/Test Labels.txt\", delimiter = \",\")\n",
        "TestLabels"
      ]
    },
    {
      "cell_type": "code",
      "source": [
        "from sklearn import metrics\n",
        "\n",
        "cm = metrics.confusion_matrix(TestLabels, PredictedLabels)\n",
        "cm\n",
        "cm_display = metrics.ConfusionMatrixDisplay(confusion_matrix = cm, display_labels = [False, True])\n",
        "\n",
        "cm_display.plot()\n",
        "plt.show()\n",
        "plt.savefig('ConfusionMatrix.png')"
      ],
      "metadata": {
        "colab": {
          "base_uri": "https://localhost:8080/",
          "height": 300
        },
        "id": "dg4BIFTof1nD",
        "outputId": "68e68265-547e-4cb2-f900-79b81f912097"
      },
      "execution_count": null,
      "outputs": [
        {
          "output_type": "display_data",
          "data": {
            "text/plain": [
              "<Figure size 432x288 with 2 Axes>"
            ],
            "image/png": "[encoded data removed]"
          },
          "metadata": {
            "needs_background": "light"
          }
        },
        {
          "output_type": "display_data",
          "data": {
            "text/plain": [
              "<Figure size 432x288 with 0 Axes>"
            ]
          },
          "metadata": {}
        }
      ]
    }
  ],
  "metadata": {
    "colab": {
      "provenance": []
    },
    "kernelspec": {
      "display_name": "Python 3",
      "name": "python3"
    },
    "language_info": {
      "name": "python"
    }
  },
  "nbformat": 4,
  "nbformat_minor": 0
}