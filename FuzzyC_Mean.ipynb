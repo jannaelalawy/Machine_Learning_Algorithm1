{
  "nbformat": 4,
  "nbformat_minor": 0,
  "metadata": {
    "colab": {
      "provenance": []
    },
    "kernelspec": {
      "name": "python3",
      "display_name": "Python 3"
    },
    "language_info": {
      "name": "python"
    }
  },
  "cells": [
    {
      "cell_type": "code",
      "source": [
        "import numpy as np\n",
        "import math \n",
        "from scipy.spatial.distance import cdist"
      ],
      "metadata": {
        "id": "dI1FcApVeVAb"
      },
      "execution_count": null,
      "outputs": []
    },
    {
      "cell_type": "code",
      "execution_count": null,
      "metadata": {
        "id": "Qg3tU-THb9ZJ"
      },
      "outputs": [],
      "source": [
        "Data_points = [[3, 5], [4, 6], [2, 8], [2, 3], [1, 4]]\n",
        "ClusterCenter =[[2, 4], [1, 7]]\n",
        "q=2\n",
        "lamda=1"
      ]
    },
    {
      "cell_type": "code",
      "source": [
        "def CalculateDisance(Data_points,ClusterCenter) :\n",
        "   c1= ClusterCenter[0]\n",
        "   c2= ClusterCenter[1]\n",
        "   x=[]\n",
        "   y=[]\n",
        "   i=0\n",
        " \n",
        "   while i < len(Data_points) :\n",
        "    d1= math.dist(Data_points[i], c1)\n",
        "    d2= math.dist(Data_points[i], c2)\n",
        "    x.append(d1)\n",
        "    y.append(d2)\n",
        "    i=i+1\n",
        "   array=[[x[0], y[0]], [x[1], y[1]], [x[2], y[2]], [x[3], y[3]], [x[4], y[4]]] \n",
        "   return array\n",
        "\n",
        "d=CalculateDisance(Data_points,ClusterCenter)\n",
        "d"
      ],
      "metadata": {
        "colab": {
          "base_uri": "https://localhost:8080/"
        },
        "id": "k_A7lcqo5pjX",
        "outputId": "3766c642-9029-4e12-ee12-2d3b92c6b27b"
      },
      "execution_count": null,
      "outputs": [
        {
          "output_type": "execute_result",
          "data": {
            "text/plain": [
              "[[1.4142135623730951, 2.8284271247461903],\n",
              " [2.8284271247461903, 3.1622776601683795],\n",
              " [4.0, 1.4142135623730951],\n",
              " [1.0, 4.123105625617661],\n",
              " [1.0, 3.0]]"
            ]
          },
          "metadata": {},
          "execution_count": 61
        }
      ]
    },
    {
      "cell_type": "code",
      "source": [
        "def CalculateMembership(CalculateDisanceOutput, q ):\n",
        "  power=2/(q-1)\n",
        "  i=0\n",
        "  j=0\n",
        "  p=0\n",
        "  m=0\n",
        "  r1=[]\n",
        "  r2=[]\n",
        "  for i in range(len(Data_points)):\n",
        "    m1=pow((CalculateDisanceOutput[i][0]/CalculateDisanceOutput[i][0]),power)\n",
        "    m2=pow((CalculateDisanceOutput[i][0]/CalculateDisanceOutput[i][1]),power)\n",
        "    m=m1+m2\n",
        "    rnk1=1/m\n",
        "    r1.append(rnk1)\n",
        "  for j in range(len(Data_points)):\n",
        "    p1=pow((CalculateDisanceOutput[j][1]/CalculateDisanceOutput[j][0]),power)\n",
        "    p2=pow((CalculateDisanceOutput[j][1]/CalculateDisanceOutput[j][1]),power)\n",
        "    p=p1+p2\n",
        "    rnk2=1/p  \n",
        "    r2.append(rnk2)\n",
        "  rnk=[[r1[0], r2[0]], [r1[1], r2[1]], [r1[2], r2[2]], [r1[3], r2[3]], [r1[4], r2[4]]]\n",
        "  return rnk\n",
        "x=CalculateMembership(d,q) \n",
        "x\n"
      ],
      "metadata": {
        "colab": {
          "base_uri": "https://localhost:8080/"
        },
        "id": "TultzpYKG1oR",
        "outputId": "99318b42-cee5-4d19-f972-936266c26647"
      },
      "execution_count": null,
      "outputs": [
        {
          "output_type": "execute_result",
          "data": {
            "text/plain": [
              "[[0.8, 0.2],\n",
              " [0.5555555555555556, 0.4444444444444444],\n",
              " [0.11111111111111113, 0.8888888888888888],\n",
              " [0.9444444444444444, 0.05555555555555555],\n",
              " [0.8999999999999999, 0.1]]"
            ]
          },
          "metadata": {},
          "execution_count": 145
        }
      ]
    },
    {
      "cell_type": "code",
      "source": [
        "def UpdateClusterMean(CalculateMembershipOutput, dataPoint,Q ):\n",
        "  i=0\n",
        "  p1=0\n",
        "  part1=0\n",
        "  part2=0\n",
        "  part11=0\n",
        "  part22=0\n",
        "  p11=0\n",
        "  p2=0\n",
        "  p22=0\n",
        "  cluster1=[]\n",
        "  cluster2=[]\n",
        "  points= np.array(dataPoint)\n",
        "  array=np.array(CalculateMembershipOutput)\n",
        "  while i < len(Data_points): \n",
        "   part1=((pow(array[i][0],Q))*points[i])\n",
        "   p1=p1+part1\n",
        "   part2=( pow(array[i][0],Q))\n",
        "   p2=p2+part2\n",
        "   p=p1/p2\n",
        "   cluster1.append(p)\n",
        "\n",
        "   part11=((pow(array[i][1],Q))*points[i])\n",
        "   p11=p11+part11\n",
        "   part22=( pow(array[i][1],Q) )\n",
        "   p22=p22+part22\n",
        "   pp=p11/p22\n",
        "   cluster2.append(pp)\n",
        "   i=i+1\n",
        "    \n",
        "  cluster=[ [p[0], p[1]], [pp[0], pp[1]]]\n",
        "  return cluster\n",
        "  \n",
        "  \n",
        "clusterMean= UpdateClusterMean(x,Data_points,q)\n",
        "clusterMean\n",
        " \n",
        "\n"
      ],
      "metadata": {
        "colab": {
          "base_uri": "https://localhost:8080/"
        },
        "id": "70nnt5hWcE3t",
        "outputId": "9733a800-660b-4b08-d487-334670b5f68e"
      },
      "execution_count": null,
      "outputs": [
        {
          "output_type": "execute_result",
          "data": {
            "text/plain": [
              "[[2.1679647658785353, 4.155725544738062],\n",
              " [2.4084223013048636, 7.451838671411625]]"
            ]
          },
          "metadata": {},
          "execution_count": 112
        }
      ]
    },
    {
      "cell_type": "code",
      "source": [
        "from re import S\n",
        "def CalculateObjectiveFunc(dataPoints,membership, clusterCenters, Q,lamda):\n",
        "  distance=CalculateDisance(dataPoints,clusterCenters)\n",
        "  rnk=membership\n",
        "  i=0\n",
        "  j=0\n",
        "  k=0\n",
        "  cluster1=0\n",
        "  cluster2=0\n",
        "  sumC1=0\n",
        "  sumC2=0\n",
        "  part1=0\n",
        "  partFinal=0\n",
        "  while i < len(Data_points): \n",
        "    cluster1=pow(rnk[i][0],Q)*pow(d[i][0],2)\n",
        "    sumC1=sumC1+cluster1\n",
        "    i=i+1\n",
        "\n",
        "  while j < len(Data_points): \n",
        "    cluster1=pow(rnk[j][1],Q)*pow(d[j][1],2)\n",
        "    sumC2=sumC2+cluster1\n",
        "    j=j+1\n",
        "  part1=sumC1+sumC2\n",
        "\n",
        "  while k < len(Data_points): \n",
        "\n",
        "    part2=lamda*((rnk[k][0]+rnk[k][1])-1)\n",
        "    k=k+1\n",
        "  partFinal=part1+part2\n",
        "  return partFinal\n",
        "s=CalculateObjectiveFunc(Data_points,x, ClusterCenter, q,lamda) \n",
        "s"
      ],
      "metadata": {
        "colab": {
          "base_uri": "https://localhost:8080/"
        },
        "id": "lB6b7FsHsoWJ",
        "outputId": "60af28dd-e87a-49dd-eed0-0fea2a691523"
      },
      "execution_count": null,
      "outputs": [
        {
          "output_type": "execute_result",
          "data": {
            "text/plain": [
              "9.666666666666668"
            ]
          },
          "metadata": {},
          "execution_count": 162
        }
      ]
    },
    {
      "cell_type": "code",
      "source": [
        "def ReachConvergence(dataPoints,membership, clusterCenters, Q,lamda ) :\n",
        " obj0=CalculateObjectiveFunc(dataPoints,membership, clusterCenters, Q,lamda)\n",
        " array1=[obj0]\n",
        " newClustersArray=[]\n",
        " i=0\n",
        " while (True):\n",
        "  newCenter=UpdateClusterMean(membership, Data_points,q )\n",
        "  newClustersArray.append(newCenter)\n",
        "\n",
        "\n",
        "  newDistance=CalculateDisance(Data_points,newCenter)\n",
        "  newMem=CalculateMembership(newDistance, Q )\n",
        "\n",
        "  Obj=CalculateObjectiveFunc(Data_points,newMem, newCenter, q,lamda)\n",
        "  array1.append(Obj)\n",
        "\n",
        "  diff=Obj-array1[i] \n",
        "  i=i+1\n",
        "\n",
        "  membership=newMem\n",
        "  \n",
        "\n",
        "  if(diff<0.01): \n",
        "    #This is the new centers \n",
        "    print(newCenter)\n",
        "    print(membership)\n",
        "\n",
        "    break\n",
        "  #return newCenter +membership\n",
        "jj=ReachConvergence(Data_points,x, ClusterCenter, q,lamda )\n",
        "jj "
      ],
      "metadata": {
        "colab": {
          "base_uri": "https://localhost:8080/"
        },
        "id": "OKLkVM7y6x-9",
        "outputId": "d1e7a4c8-3d43-453c-f880-fe528eaa0ee5"
      },
      "execution_count": null,
      "outputs": [
        {
          "output_type": "stream",
          "name": "stdout",
          "text": [
            "[[1.6548335087226005, 3.685574952892563], [3.021742428474376, 6.61534506850486]]\n",
            "[[0.4245669518565545, 0.5754330481434455], [0.10955025480160868, 0.8904497451983913], [0.13649584406480475, 0.8635041559351953], [0.9599320106657733, 0.04006798933422674], [0.9539359686533766, 0.046064031346623374]]\n"
          ]
        }
      ]
    },
    {
      "cell_type": "code",
      "source": [
        "import matplotlib.pyplot as plt\n",
        "q2= CalculateObjectiveFunc(Data_points,x,ClusterCenter,2,lamda)\n",
        "q3= CalculateObjectiveFunc(Data_points,x,ClusterCenter,3,lamda)\n",
        "q4= CalculateObjectiveFunc(Data_points,x,ClusterCenter,4,lamda)\n",
        "q5= CalculateObjectiveFunc(Data_points,x,ClusterCenter,5,lamda)\n",
        "q6= CalculateObjectiveFunc(Data_points,x,ClusterCenter,6,lamda)\n",
        "q7= CalculateObjectiveFunc(Data_points,x,ClusterCenter,7,lamda)\n",
        "q8= CalculateObjectiveFunc(Data_points,x,ClusterCenter,8,lamda)\n",
        "q9= CalculateObjectiveFunc(Data_points,x,ClusterCenter,9,lamda)\n",
        "q10= CalculateObjectiveFunc(Data_points,x,ClusterCenter,10,lamda)\n",
        "\n",
        "Q = [2,3,4,5,6,7,8,9,10]\n",
        "objectiveFunctionn = [q2,q3,q4,q5,q6,q7,q8,q9,q10]\n",
        "\n",
        " \n",
        "plt.plot(Q, objectiveFunctionn)\n",
        "plt.title('Objective function vs Q value')\n",
        "plt.xlabel('Q')\n",
        "plt.ylabel('Objective Function')\n",
        "plt.show()\n",
        "print(\"Q of 10 is the best q as it minimizes the objective function the most\")"
      ],
      "metadata": {
        "colab": {
          "base_uri": "https://localhost:8080/",
          "height": 312
        },
        "id": "6tZgHWAKPtMt",
        "outputId": "2e97fe4a-85aa-4b52-b4ce-fa1c7d3cf98a"
      },
      "execution_count": null,
      "outputs": [
        {
          "output_type": "display_data",
          "data": {
            "text/plain": [
              "<Figure size 432x288 with 1 Axes>"
            ],
            "image/png": "[encoded data removed]"
          },
          "metadata": {
            "needs_background": "light"
          }
        },
        {
          "output_type": "stream",
          "name": "stdout",
          "text": [
            "Q of 10 is the best q as it minimizes the objective function the most\n"
          ]
        }
      ]
    }
  ]
}